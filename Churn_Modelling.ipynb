{
 "cells": [
  {
   "cell_type": "code",
   "execution_count": 1,
   "metadata": {},
   "outputs": [
    {
     "name": "stderr",
     "output_type": "stream",
     "text": [
      "Parsed with column specification:\n",
      "cols(\n",
      "  RowNumber = col_double(),\n",
      "  CustomerId = col_double(),\n",
      "  Surname = col_character(),\n",
      "  CreditScore = col_double(),\n",
      "  Geography = col_character(),\n",
      "  Gender = col_character(),\n",
      "  Age = col_double(),\n",
      "  Tenure = col_double(),\n",
      "  Balance = col_double(),\n",
      "  NumOfProducts = col_double(),\n",
      "  HasCrCard = col_double(),\n",
      "  IsActiveMember = col_double(),\n",
      "  EstimatedSalary = col_double(),\n",
      "  Exited = col_double()\n",
      ")\n"
     ]
    },
    {
     "data": {
      "text/plain": [
       "  CreditScore     Geography            Gender               Age       \n",
       " Min.   :350.0   Length:10000       Length:10000       Min.   :18.00  \n",
       " 1st Qu.:584.0   Class :character   Class :character   1st Qu.:32.00  \n",
       " Median :652.0   Mode  :character   Mode  :character   Median :37.00  \n",
       " Mean   :650.5                                         Mean   :38.92  \n",
       " 3rd Qu.:718.0                                         3rd Qu.:44.00  \n",
       " Max.   :850.0                                         Max.   :92.00  \n",
       "     Tenure          Balance       NumOfProducts    HasCrCard     \n",
       " Min.   : 0.000   Min.   :     0   Min.   :1.00   Min.   :0.0000  \n",
       " 1st Qu.: 3.000   1st Qu.:     0   1st Qu.:1.00   1st Qu.:0.0000  \n",
       " Median : 5.000   Median : 97199   Median :1.00   Median :1.0000  \n",
       " Mean   : 5.013   Mean   : 76486   Mean   :1.53   Mean   :0.7055  \n",
       " 3rd Qu.: 7.000   3rd Qu.:127644   3rd Qu.:2.00   3rd Qu.:1.0000  \n",
       " Max.   :10.000   Max.   :250898   Max.   :4.00   Max.   :1.0000  \n",
       " IsActiveMember   EstimatedSalary         Exited      \n",
       " Min.   :0.0000   Min.   :    11.58   Min.   :0.0000  \n",
       " 1st Qu.:0.0000   1st Qu.: 51002.11   1st Qu.:0.0000  \n",
       " Median :1.0000   Median :100193.91   Median :0.0000  \n",
       " Mean   :0.5151   Mean   :100090.24   Mean   :0.2037  \n",
       " 3rd Qu.:1.0000   3rd Qu.:149388.25   3rd Qu.:0.0000  \n",
       " Max.   :1.0000   Max.   :199992.48   Max.   :1.0000  "
      ]
     },
     "metadata": {},
     "output_type": "display_data"
    },
    {
     "data": {
      "text/html": [
       "<table>\n",
       "<thead><tr><th scope=col>CreditScore</th><th scope=col>Geography</th><th scope=col>Gender</th><th scope=col>Age</th><th scope=col>Tenure</th><th scope=col>Balance</th><th scope=col>NumOfProducts</th><th scope=col>HasCrCard</th><th scope=col>IsActiveMember</th><th scope=col>EstimatedSalary</th><th scope=col>Exited</th></tr></thead>\n",
       "<tbody>\n",
       "\t<tr><td>619      </td><td>France   </td><td>Female   </td><td>42       </td><td>2        </td><td>     0.00</td><td>1        </td><td>1        </td><td>1        </td><td>101348.88</td><td>1        </td></tr>\n",
       "\t<tr><td>608      </td><td>Spain    </td><td>Female   </td><td>41       </td><td>1        </td><td> 83807.86</td><td>1        </td><td>0        </td><td>1        </td><td>112542.58</td><td>0        </td></tr>\n",
       "\t<tr><td>502      </td><td>France   </td><td>Female   </td><td>42       </td><td>8        </td><td>159660.80</td><td>3        </td><td>1        </td><td>0        </td><td>113931.57</td><td>1        </td></tr>\n",
       "\t<tr><td>699      </td><td>France   </td><td>Female   </td><td>39       </td><td>1        </td><td>     0.00</td><td>2        </td><td>0        </td><td>0        </td><td> 93826.63</td><td>0        </td></tr>\n",
       "\t<tr><td>850      </td><td>Spain    </td><td>Female   </td><td>43       </td><td>2        </td><td>125510.82</td><td>1        </td><td>1        </td><td>1        </td><td> 79084.10</td><td>0        </td></tr>\n",
       "\t<tr><td>645      </td><td>Spain    </td><td>Male     </td><td>44       </td><td>8        </td><td>113755.78</td><td>2        </td><td>1        </td><td>0        </td><td>149756.71</td><td>1        </td></tr>\n",
       "</tbody>\n",
       "</table>\n"
      ],
      "text/latex": [
       "\\begin{tabular}{r|lllllllllll}\n",
       " CreditScore & Geography & Gender & Age & Tenure & Balance & NumOfProducts & HasCrCard & IsActiveMember & EstimatedSalary & Exited\\\\\n",
       "\\hline\n",
       "\t 619       & France    & Female    & 42        & 2         &      0.00 & 1         & 1         & 1         & 101348.88 & 1        \\\\\n",
       "\t 608       & Spain     & Female    & 41        & 1         &  83807.86 & 1         & 0         & 1         & 112542.58 & 0        \\\\\n",
       "\t 502       & France    & Female    & 42        & 8         & 159660.80 & 3         & 1         & 0         & 113931.57 & 1        \\\\\n",
       "\t 699       & France    & Female    & 39        & 1         &      0.00 & 2         & 0         & 0         &  93826.63 & 0        \\\\\n",
       "\t 850       & Spain     & Female    & 43        & 2         & 125510.82 & 1         & 1         & 1         &  79084.10 & 0        \\\\\n",
       "\t 645       & Spain     & Male      & 44        & 8         & 113755.78 & 2         & 1         & 0         & 149756.71 & 1        \\\\\n",
       "\\end{tabular}\n"
      ],
      "text/markdown": [
       "\n",
       "CreditScore | Geography | Gender | Age | Tenure | Balance | NumOfProducts | HasCrCard | IsActiveMember | EstimatedSalary | Exited | \n",
       "|---|---|---|---|---|---|\n",
       "| 619       | France    | Female    | 42        | 2         |      0.00 | 1         | 1         | 1         | 101348.88 | 1         | \n",
       "| 608       | Spain     | Female    | 41        | 1         |  83807.86 | 1         | 0         | 1         | 112542.58 | 0         | \n",
       "| 502       | France    | Female    | 42        | 8         | 159660.80 | 3         | 1         | 0         | 113931.57 | 1         | \n",
       "| 699       | France    | Female    | 39        | 1         |      0.00 | 2         | 0         | 0         |  93826.63 | 0         | \n",
       "| 850       | Spain     | Female    | 43        | 2         | 125510.82 | 1         | 1         | 1         |  79084.10 | 0         | \n",
       "| 645       | Spain     | Male      | 44        | 8         | 113755.78 | 2         | 1         | 0         | 149756.71 | 1         | \n",
       "\n",
       "\n"
      ],
      "text/plain": [
       "  CreditScore Geography Gender Age Tenure Balance   NumOfProducts HasCrCard\n",
       "1 619         France    Female 42  2           0.00 1             1        \n",
       "2 608         Spain     Female 41  1       83807.86 1             0        \n",
       "3 502         France    Female 42  8      159660.80 3             1        \n",
       "4 699         France    Female 39  1           0.00 2             0        \n",
       "5 850         Spain     Female 43  2      125510.82 1             1        \n",
       "6 645         Spain     Male   44  8      113755.78 2             1        \n",
       "  IsActiveMember EstimatedSalary Exited\n",
       "1 1              101348.88       1     \n",
       "2 1              112542.58       0     \n",
       "3 0              113931.57       1     \n",
       "4 0               93826.63       0     \n",
       "5 1               79084.10       0     \n",
       "6 0              149756.71       1     "
      ]
     },
     "metadata": {},
     "output_type": "display_data"
    }
   ],
   "source": [
    "library(readr)\n",
    "Churn_Modelling <- read_csv(\"C:/Users/z003e0kz/Desktop/Big Data Analytics and Management/2.Dönem/Marketing Analytics/Hands-on Exercises/W-5/Churn_Modelling.csv\")\n",
    "Churn_Modelling <- Churn_Modelling[-c(1:3)]\n",
    "summary(Churn_Modelling)\n",
    "head(Churn_Modelling)"
   ]
  },
  {
   "cell_type": "code",
   "execution_count": 2,
   "metadata": {},
   "outputs": [
    {
     "name": "stderr",
     "output_type": "stream",
     "text": [
      "The following `from` values were not present in `x`: Female\n",
      "The following `from` values were not present in `x`: Male\n"
     ]
    },
    {
     "data": {
      "text/html": [
       "<table>\n",
       "<thead><tr><th scope=col>CreditScore</th><th scope=col>Geography</th><th scope=col>Gender</th><th scope=col>Age</th><th scope=col>Tenure</th><th scope=col>Balance</th><th scope=col>NumOfProducts</th><th scope=col>HasCrCard</th><th scope=col>IsActiveMember</th><th scope=col>EstimatedSalary</th><th scope=col>Exited</th></tr></thead>\n",
       "<tbody>\n",
       "\t<tr><td>619      </td><td>0        </td><td>0        </td><td>42       </td><td>2        </td><td>     0.00</td><td>1        </td><td>1        </td><td>1        </td><td>101348.88</td><td>1        </td></tr>\n",
       "\t<tr><td>608      </td><td>1        </td><td>1        </td><td>41       </td><td>1        </td><td> 83807.86</td><td>1        </td><td>0        </td><td>1        </td><td>112542.58</td><td>0        </td></tr>\n",
       "\t<tr><td>502      </td><td>0        </td><td>0        </td><td>42       </td><td>8        </td><td>159660.80</td><td>3        </td><td>1        </td><td>0        </td><td>113931.57</td><td>1        </td></tr>\n",
       "\t<tr><td>699      </td><td>0        </td><td>0        </td><td>39       </td><td>1        </td><td>     0.00</td><td>2        </td><td>0        </td><td>0        </td><td> 93826.63</td><td>0        </td></tr>\n",
       "\t<tr><td>850      </td><td>1        </td><td>1        </td><td>43       </td><td>2        </td><td>125510.82</td><td>1        </td><td>1        </td><td>1        </td><td> 79084.10</td><td>0        </td></tr>\n",
       "\t<tr><td>645      </td><td>1        </td><td>1        </td><td>44       </td><td>8        </td><td>113755.78</td><td>2        </td><td>1        </td><td>0        </td><td>149756.71</td><td>1        </td></tr>\n",
       "</tbody>\n",
       "</table>\n"
      ],
      "text/latex": [
       "\\begin{tabular}{r|lllllllllll}\n",
       " CreditScore & Geography & Gender & Age & Tenure & Balance & NumOfProducts & HasCrCard & IsActiveMember & EstimatedSalary & Exited\\\\\n",
       "\\hline\n",
       "\t 619       & 0         & 0         & 42        & 2         &      0.00 & 1         & 1         & 1         & 101348.88 & 1        \\\\\n",
       "\t 608       & 1         & 1         & 41        & 1         &  83807.86 & 1         & 0         & 1         & 112542.58 & 0        \\\\\n",
       "\t 502       & 0         & 0         & 42        & 8         & 159660.80 & 3         & 1         & 0         & 113931.57 & 1        \\\\\n",
       "\t 699       & 0         & 0         & 39        & 1         &      0.00 & 2         & 0         & 0         &  93826.63 & 0        \\\\\n",
       "\t 850       & 1         & 1         & 43        & 2         & 125510.82 & 1         & 1         & 1         &  79084.10 & 0        \\\\\n",
       "\t 645       & 1         & 1         & 44        & 8         & 113755.78 & 2         & 1         & 0         & 149756.71 & 1        \\\\\n",
       "\\end{tabular}\n"
      ],
      "text/markdown": [
       "\n",
       "CreditScore | Geography | Gender | Age | Tenure | Balance | NumOfProducts | HasCrCard | IsActiveMember | EstimatedSalary | Exited | \n",
       "|---|---|---|---|---|---|\n",
       "| 619       | 0         | 0         | 42        | 2         |      0.00 | 1         | 1         | 1         | 101348.88 | 1         | \n",
       "| 608       | 1         | 1         | 41        | 1         |  83807.86 | 1         | 0         | 1         | 112542.58 | 0         | \n",
       "| 502       | 0         | 0         | 42        | 8         | 159660.80 | 3         | 1         | 0         | 113931.57 | 1         | \n",
       "| 699       | 0         | 0         | 39        | 1         |      0.00 | 2         | 0         | 0         |  93826.63 | 0         | \n",
       "| 850       | 1         | 1         | 43        | 2         | 125510.82 | 1         | 1         | 1         |  79084.10 | 0         | \n",
       "| 645       | 1         | 1         | 44        | 8         | 113755.78 | 2         | 1         | 0         | 149756.71 | 1         | \n",
       "\n",
       "\n"
      ],
      "text/plain": [
       "  CreditScore Geography Gender Age Tenure Balance   NumOfProducts HasCrCard\n",
       "1 619         0         0      42  2           0.00 1             1        \n",
       "2 608         1         1      41  1       83807.86 1             0        \n",
       "3 502         0         0      42  8      159660.80 3             1        \n",
       "4 699         0         0      39  1           0.00 2             0        \n",
       "5 850         1         1      43  2      125510.82 1             1        \n",
       "6 645         1         1      44  8      113755.78 2             1        \n",
       "  IsActiveMember EstimatedSalary Exited\n",
       "1 1              101348.88       1     \n",
       "2 1              112542.58       0     \n",
       "3 0              113931.57       1     \n",
       "4 0               93826.63       0     \n",
       "5 1               79084.10       0     \n",
       "6 0              149756.71       1     "
      ]
     },
     "metadata": {},
     "output_type": "display_data"
    },
    {
     "data": {
      "text/html": [
       "'double'"
      ],
      "text/latex": [
       "'double'"
      ],
      "text/markdown": [
       "'double'"
      ],
      "text/plain": [
       "[1] \"double\""
      ]
     },
     "metadata": {},
     "output_type": "display_data"
    },
    {
     "data": {
      "text/html": [
       "'double'"
      ],
      "text/latex": [
       "'double'"
      ],
      "text/markdown": [
       "'double'"
      ],
      "text/plain": [
       "[1] \"double\""
      ]
     },
     "metadata": {},
     "output_type": "display_data"
    },
    {
     "data": {
      "text/html": [
       "<table>\n",
       "<thead><tr><th scope=col>CreditScore</th><th scope=col>Geography</th><th scope=col>Gender</th><th scope=col>Age</th><th scope=col>Tenure</th><th scope=col>Balance</th><th scope=col>NumOfProducts</th><th scope=col>HasCrCard</th><th scope=col>IsActiveMember</th><th scope=col>EstimatedSalary</th><th scope=col>Exited</th></tr></thead>\n",
       "<tbody>\n",
       "\t<tr><td>619      </td><td>0        </td><td>0        </td><td>42       </td><td>2        </td><td>     0.00</td><td>1        </td><td>1        </td><td>1        </td><td>101348.88</td><td>1        </td></tr>\n",
       "\t<tr><td>608      </td><td>1        </td><td>1        </td><td>41       </td><td>1        </td><td> 83807.86</td><td>1        </td><td>0        </td><td>1        </td><td>112542.58</td><td>0        </td></tr>\n",
       "\t<tr><td>502      </td><td>0        </td><td>0        </td><td>42       </td><td>8        </td><td>159660.80</td><td>3        </td><td>1        </td><td>0        </td><td>113931.57</td><td>1        </td></tr>\n",
       "\t<tr><td>699      </td><td>0        </td><td>0        </td><td>39       </td><td>1        </td><td>     0.00</td><td>2        </td><td>0        </td><td>0        </td><td> 93826.63</td><td>0        </td></tr>\n",
       "\t<tr><td>850      </td><td>1        </td><td>1        </td><td>43       </td><td>2        </td><td>125510.82</td><td>1        </td><td>1        </td><td>1        </td><td> 79084.10</td><td>0        </td></tr>\n",
       "\t<tr><td>645      </td><td>1        </td><td>1        </td><td>44       </td><td>8        </td><td>113755.78</td><td>2        </td><td>1        </td><td>0        </td><td>149756.71</td><td>1        </td></tr>\n",
       "</tbody>\n",
       "</table>\n"
      ],
      "text/latex": [
       "\\begin{tabular}{r|lllllllllll}\n",
       " CreditScore & Geography & Gender & Age & Tenure & Balance & NumOfProducts & HasCrCard & IsActiveMember & EstimatedSalary & Exited\\\\\n",
       "\\hline\n",
       "\t 619       & 0         & 0         & 42        & 2         &      0.00 & 1         & 1         & 1         & 101348.88 & 1        \\\\\n",
       "\t 608       & 1         & 1         & 41        & 1         &  83807.86 & 1         & 0         & 1         & 112542.58 & 0        \\\\\n",
       "\t 502       & 0         & 0         & 42        & 8         & 159660.80 & 3         & 1         & 0         & 113931.57 & 1        \\\\\n",
       "\t 699       & 0         & 0         & 39        & 1         &      0.00 & 2         & 0         & 0         &  93826.63 & 0        \\\\\n",
       "\t 850       & 1         & 1         & 43        & 2         & 125510.82 & 1         & 1         & 1         &  79084.10 & 0        \\\\\n",
       "\t 645       & 1         & 1         & 44        & 8         & 113755.78 & 2         & 1         & 0         & 149756.71 & 1        \\\\\n",
       "\\end{tabular}\n"
      ],
      "text/markdown": [
       "\n",
       "CreditScore | Geography | Gender | Age | Tenure | Balance | NumOfProducts | HasCrCard | IsActiveMember | EstimatedSalary | Exited | \n",
       "|---|---|---|---|---|---|\n",
       "| 619       | 0         | 0         | 42        | 2         |      0.00 | 1         | 1         | 1         | 101348.88 | 1         | \n",
       "| 608       | 1         | 1         | 41        | 1         |  83807.86 | 1         | 0         | 1         | 112542.58 | 0         | \n",
       "| 502       | 0         | 0         | 42        | 8         | 159660.80 | 3         | 1         | 0         | 113931.57 | 1         | \n",
       "| 699       | 0         | 0         | 39        | 1         |      0.00 | 2         | 0         | 0         |  93826.63 | 0         | \n",
       "| 850       | 1         | 1         | 43        | 2         | 125510.82 | 1         | 1         | 1         |  79084.10 | 0         | \n",
       "| 645       | 1         | 1         | 44        | 8         | 113755.78 | 2         | 1         | 0         | 149756.71 | 1         | \n",
       "\n",
       "\n"
      ],
      "text/plain": [
       "  CreditScore Geography Gender Age Tenure Balance   NumOfProducts HasCrCard\n",
       "1 619         0         0      42  2           0.00 1             1        \n",
       "2 608         1         1      41  1       83807.86 1             0        \n",
       "3 502         0         0      42  8      159660.80 3             1        \n",
       "4 699         0         0      39  1           0.00 2             0        \n",
       "5 850         1         1      43  2      125510.82 1             1        \n",
       "6 645         1         1      44  8      113755.78 2             1        \n",
       "  IsActiveMember EstimatedSalary Exited\n",
       "1 1              101348.88       1     \n",
       "2 1              112542.58       0     \n",
       "3 0              113931.57       1     \n",
       "4 0               93826.63       0     \n",
       "5 1               79084.10       0     \n",
       "6 0              149756.71       1     "
      ]
     },
     "metadata": {},
     "output_type": "display_data"
    }
   ],
   "source": [
    "library(plyr)\n",
    "Churn_Modelling$Geography <- revalue(Churn_Modelling$Geography, c(\"France\"=0))\n",
    "Churn_Modelling$Geography <- revalue(Churn_Modelling$Geography, c(\"Spain\"=1))\n",
    "Churn_Modelling$Geography <- revalue(Churn_Modelling$Geography, c(\"Germany\"=2))\n",
    "Churn_Modelling$Gender <- revalue(Churn_Modelling$Geography, c(\"Female\"=0))\n",
    "Churn_Modelling$Gender <- revalue(Churn_Modelling$Geography, c(\"Male\"=1))\n",
    "head(Churn_Modelling)\n",
    "Churn_Modelling$Geography <- as.numeric(Churn_Modelling$Geography)\n",
    "Churn_Modelling$Gender <- as.numeric(Churn_Modelling$Gender)\n",
    "typeof(Churn_Modelling$Geography)\n",
    "typeof(Churn_Modelling$Gender)\n",
    "head(Churn_Modelling)"
   ]
  },
  {
   "cell_type": "code",
   "execution_count": 3,
   "metadata": {},
   "outputs": [],
   "source": [
    "#train and test data split\n",
    "library(\"caTools\")\n",
    "set.seed(123)\n",
    "split = sample.split(Churn_Modelling$Exited, SplitRatio = 0.7)\n",
    "training_set <- subset(Churn_Modelling, split == TRUE)\n",
    "test_set <- subset(Churn_Modelling, split == FALSE)"
   ]
  },
  {
   "cell_type": "code",
   "execution_count": 8,
   "metadata": {},
   "outputs": [
    {
     "name": "stderr",
     "output_type": "stream",
     "text": [
      "Warning message:\n",
      "\"package 'randomForest' was built under R version 3.5.3\"randomForest 4.6-14\n",
      "Type rfNews() to see new features/changes/bug fixes.\n"
     ]
    },
    {
     "data": {
      "text/plain": [
       "\n",
       "Call:\n",
       " randomForest(formula = as.factor(Exited) ~ ., data = training_set,      importance = TRUE, ntree = 500) \n",
       "               Type of random forest: classification\n",
       "                     Number of trees: 500\n",
       "No. of variables tried at each split: 3\n",
       "\n",
       "        OOB estimate of  error rate: 13.81%\n",
       "Confusion matrix:\n",
       "     0   1 class.error\n",
       "0 5367 207  0.03713671\n",
       "1  760 666  0.53295933"
      ]
     },
     "metadata": {},
     "output_type": "display_data"
    },
    {
     "data": {
      "text/plain": [
       "                Length Class  Mode     \n",
       "call                5  -none- call     \n",
       "type                1  -none- character\n",
       "predicted        7000  factor numeric  \n",
       "err.rate         1500  -none- numeric  \n",
       "confusion           6  -none- numeric  \n",
       "votes           14000  matrix numeric  \n",
       "oob.times        7000  -none- numeric  \n",
       "classes             2  -none- character\n",
       "importance         40  -none- numeric  \n",
       "importanceSD       30  -none- numeric  \n",
       "localImportance     0  -none- NULL     \n",
       "proximity           0  -none- NULL     \n",
       "ntree               1  -none- numeric  \n",
       "mtry                1  -none- numeric  \n",
       "forest             14  -none- list     \n",
       "y                7000  factor numeric  \n",
       "test                0  -none- NULL     \n",
       "inbag               0  -none- NULL     \n",
       "terms               3  terms  call     "
      ]
     },
     "metadata": {},
     "output_type": "display_data"
    }
   ],
   "source": [
    "# Fitting Random Forest Classification to the Training set\n",
    "#install.packages(\"randomForest\")# install.packages('randomForest')\n",
    "library(randomForest)\n",
    "set.seed(123)\n",
    "classifier = randomForest(as.factor(Exited) ~ ., data = training_set, importance = TRUE, ntree = 500)\n",
    "classifier\n",
    "summary(classifier)"
   ]
  },
  {
   "cell_type": "code",
   "execution_count": 9,
   "metadata": {},
   "outputs": [
    {
     "ename": "ERROR",
     "evalue": "Error in xy.coords(x, y, recycle = TRUE, setLab = FALSE): 'x' is a list, but does not have components 'x' and 'y'\n",
     "output_type": "error",
     "traceback": [
      "Error in xy.coords(x, y, recycle = TRUE, setLab = FALSE): 'x' is a list, but does not have components 'x' and 'y'\nTraceback:\n",
      "1. text(classifier, pretty = 0)",
      "2. text.default(classifier, pretty = 0)",
      "3. xy.coords(x, y, recycle = TRUE, setLab = FALSE)",
      "4. stop(\"'x' is a list, but does not have components 'x' and 'y'\")"
     ]
    },
    {
     "data": {
      "image/png": "[encoded data removed]",
      "text/plain": [
       "Plot with title \"classifier\""
      ]
     },
     "metadata": {},
     "output_type": "display_data"
    }
   ],
   "source": [
    "# plot the trained tree \n",
    "plot(classifier)\n",
    "text(classifier,pretty=0)"
   ]
  },
  {
   "cell_type": "code",
   "execution_count": 10,
   "metadata": {},
   "outputs": [],
   "source": [
    "#Test the predictions of the trained model\n",
    "testpredictions = predict(classifier, test_set, type =\"class\")"
   ]
  },
  {
   "cell_type": "code",
   "execution_count": 11,
   "metadata": {},
   "outputs": [
    {
     "name": "stdout",
     "output_type": "stream",
     "text": [
      "[1] 0.8653333\n"
     ]
    }
   ],
   "source": [
    "#Find the accuracy of the model\n",
    "cm =table(testpredictions, test_set$Exited)\n",
    "\n",
    "#Display the accuracy of the model in test data\n",
    "accuracy = (cm[1,1] + cm[2,2]) / (cm[1,1] + cm[2,2] + cm[1,2] + cm[2,1])\n",
    "print(accuracy)\n"
   ]
  },
  {
   "cell_type": "code",
   "execution_count": null,
   "metadata": {},
   "outputs": [],
   "source": []
  }
 ],
 "metadata": {
  "kernelspec": {
   "display_name": "R",
   "language": "R",
   "name": "ir"
  },
  "language_info": {
   "codemirror_mode": "r",
   "file_extension": ".r",
   "mimetype": "text/x-r-source",
   "name": "R",
   "pygments_lexer": "r",
   "version": "3.5.1"
  }
 },
 "nbformat": 4,
 "nbformat_minor": 2
}
